{
  "nbformat": 4,
  "nbformat_minor": 0,
  "metadata": {
    "colab": {
      "name": "data_cleaning.ipynb",
      "provenance": [],
      "collapsed_sections": []
    },
    "kernelspec": {
      "name": "python3",
      "display_name": "Python 3"
    }
  },
  "cells": [
    {
      "cell_type": "code",
      "metadata": {
        "id": "4M_9J0ppVZJd",
        "colab_type": "code",
        "colab": {}
      },
      "source": [
        "from google.colab import drive\n",
        "drive.mount('/content/drive')"
      ],
      "execution_count": null,
      "outputs": []
    },
    {
      "cell_type": "code",
      "metadata": {
        "id": "2p6hF_43VZIH",
        "colab_type": "code",
        "colab": {
          "base_uri": "https://localhost:8080/",
          "height": 134
        },
        "outputId": "247cd336-eab8-440c-f3a2-7e532ced4059"
      },
      "source": [
        "import os\n",
        "os.chdir('/content/drive/My Drive/project_captcha/dataset/captcha_labelled/captcha')\n",
        "!ls"
      ],
      "execution_count": 6,
      "outputs": [
        {
          "output_type": "stream",
          "text": [
            "2020-05-05  2020-05-19\t2020-05-26  2020-06-03\t2020-06-10  2020-06-17\n",
            "2020-05-06  2020-05-20\t2020-05-27  2020-06-04\t2020-06-11  2020-06-18\n",
            "2020-05-14  2020-05-21\t2020-05-28  2020-06-05\t2020-06-12  2020-06-19\n",
            "2020-05-15  2020-05-22\t2020-05-29  2020-06-06\t2020-06-13  2020-06-20\n",
            "2020-05-16  2020-05-23\t2020-05-30  2020-06-07\t2020-06-14  2020-06-21\n",
            "2020-05-17  2020-05-24\t2020-06-01  2020-06-08\t2020-06-15  2020-06-22\n",
            "2020-05-18  2020-05-25\t2020-06-02  2020-06-09\t2020-06-16  2020-06-23\n"
          ],
          "name": "stdout"
        }
      ]
    },
    {
      "cell_type": "code",
      "metadata": {
        "id": "lNYJmh6dxZ4_",
        "colab_type": "code",
        "colab": {}
      },
      "source": [
        "import glob\n",
        "import numpy as np\n",
        "import pandas as pd\n",
        "import shutil\n",
        "import cv2"
      ],
      "execution_count": 7,
      "outputs": []
    },
    {
      "cell_type": "code",
      "metadata": {
        "id": "NsTfzGUPxqMV",
        "colab_type": "code",
        "colab": {
          "base_uri": "https://localhost:8080/",
          "height": 54
        },
        "outputId": "62374a78-461b-43e4-b292-682714bc3699"
      },
      "source": [
        "folders_date = sorted(glob.glob('*'))\n",
        "print(folders_date)"
      ],
      "execution_count": 5,
      "outputs": [
        {
          "output_type": "stream",
          "text": [
            "['2020-05-05', '2020-05-06', '2020-05-14', '2020-05-15', '2020-05-16', '2020-05-17', '2020-05-18', '2020-05-19', '2020-05-20', '2020-05-21', '2020-05-22', '2020-05-23', '2020-05-24', '2020-05-25', '2020-05-26', '2020-05-27', '2020-05-28', '2020-05-29', '2020-05-30', '2020-06-01', '2020-06-02', '2020-06-03', '2020-06-04', '2020-06-05', '2020-06-06', '2020-06-07', '2020-06-08', '2020-06-09', '2020-06-10', '2020-06-11', '2020-06-12', '2020-06-13', '2020-06-14', '2020-06-15', '2020-06-16', '2020-06-17', '2020-06-18', '2020-06-19', '2020-06-20', '2020-06-21', '2020-06-22', '2020-06-23']\n"
          ],
          "name": "stdout"
        }
      ]
    },
    {
      "cell_type": "markdown",
      "metadata": {
        "id": "mPQuw8KIpdRt",
        "colab_type": "text"
      },
      "source": [
        "Combining images from all folders into a single folder with serialno._labels.jpg"
      ]
    },
    {
      "cell_type": "code",
      "metadata": {
        "id": "0HbpK-5F4V9k",
        "colab_type": "code",
        "colab": {}
      },
      "source": [
        "i=1\n",
        "for folder in folders_date:\n",
        "    files = glob.glob(folder+'/*')\n",
        "    for file in files:\n",
        "        label = file.split('_')[-1]\n",
        "        # print(label)\n",
        "        im = cv2.imread(file,-1)\n",
        "        cv2.imwrite('../../combined/'+str(i)+'_'+label+'.jpg',im)\n",
        "        i+=1\n"
      ],
      "execution_count": null,
      "outputs": []
    },
    {
      "cell_type": "markdown",
      "metadata": {
        "id": "sjmOegaBpzpy",
        "colab_type": "text"
      },
      "source": [
        "Creating a label.csv based on serial no of images"
      ]
    },
    {
      "cell_type": "code",
      "metadata": {
        "id": "a0alFCddcZtm",
        "colab_type": "code",
        "colab": {}
      },
      "source": [
        "os.chdir('/content/drive/My Drive/project_captcha/dataset/combined')\n",
        "images = sorted(glob.glob('*.jpg'))\n",
        "\n",
        "serial_list = []\n",
        "label_list = []\n",
        "for image in images:\n",
        "    serial_no, label = image.split('_')\n",
        "    serial_list.append(str(serial_no))\n",
        "    label_list.append(label.split('.')[0])\n"
      ],
      "execution_count": 24,
      "outputs": []
    },
    {
      "cell_type": "code",
      "metadata": {
        "id": "Xlp2KejAF96b",
        "colab_type": "code",
        "colab": {}
      },
      "source": [
        "data = {'id': serial_list,'label': label_list}\n",
        "df = pd.DataFrame(data=data)\n"
      ],
      "execution_count": 25,
      "outputs": []
    },
    {
      "cell_type": "code",
      "metadata": {
        "id": "PaO1osLbHNBL",
        "colab_type": "code",
        "colab": {
          "base_uri": "https://localhost:8080/",
          "height": 195
        },
        "outputId": "5bd6eea1-9dc6-44fc-a601-e114beb7314c"
      },
      "source": [
        "df.head()"
      ],
      "execution_count": 26,
      "outputs": [
        {
          "output_type": "execute_result",
          "data": {
            "text/html": [
              "<div>\n",
              "<style scoped>\n",
              "    .dataframe tbody tr th:only-of-type {\n",
              "        vertical-align: middle;\n",
              "    }\n",
              "\n",
              "    .dataframe tbody tr th {\n",
              "        vertical-align: top;\n",
              "    }\n",
              "\n",
              "    .dataframe thead th {\n",
              "        text-align: right;\n",
              "    }\n",
              "</style>\n",
              "<table border=\"1\" class=\"dataframe\">\n",
              "  <thead>\n",
              "    <tr style=\"text-align: right;\">\n",
              "      <th></th>\n",
              "      <th>id</th>\n",
              "      <th>label</th>\n",
              "    </tr>\n",
              "  </thead>\n",
              "  <tbody>\n",
              "    <tr>\n",
              "      <th>0</th>\n",
              "      <td>1000</td>\n",
              "      <td>89W6U</td>\n",
              "    </tr>\n",
              "    <tr>\n",
              "      <th>1</th>\n",
              "      <td>1001</td>\n",
              "      <td>79JKQ</td>\n",
              "    </tr>\n",
              "    <tr>\n",
              "      <th>2</th>\n",
              "      <td>1002</td>\n",
              "      <td>424KM</td>\n",
              "    </tr>\n",
              "    <tr>\n",
              "      <th>3</th>\n",
              "      <td>1003</td>\n",
              "      <td>Z833Q</td>\n",
              "    </tr>\n",
              "    <tr>\n",
              "      <th>4</th>\n",
              "      <td>1004</td>\n",
              "      <td>7VH32</td>\n",
              "    </tr>\n",
              "  </tbody>\n",
              "</table>\n",
              "</div>"
            ],
            "text/plain": [
              "     id  label\n",
              "0  1000  89W6U\n",
              "1  1001  79JKQ\n",
              "2  1002  424KM\n",
              "3  1003  Z833Q\n",
              "4  1004  7VH32"
            ]
          },
          "metadata": {
            "tags": []
          },
          "execution_count": 26
        }
      ]
    },
    {
      "cell_type": "code",
      "metadata": {
        "id": "_RC-kGLuIx5L",
        "colab_type": "code",
        "colab": {}
      },
      "source": [
        "df.to_csv('../label.csv', index=False)"
      ],
      "execution_count": 27,
      "outputs": []
    },
    {
      "cell_type": "code",
      "metadata": {
        "id": "SUctp007KaOT",
        "colab_type": "code",
        "colab": {}
      },
      "source": [
        ""
      ],
      "execution_count": null,
      "outputs": []
    }
  ]
}