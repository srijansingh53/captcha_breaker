{
  "nbformat": 4,
  "nbformat_minor": 0,
  "metadata": {
    "colab": {
      "name": "easyocr_test.ipynb",
      "provenance": []
    },
    "kernelspec": {
      "name": "python3",
      "display_name": "Python 3"
    },
    "accelerator": "GPU"
  },
  "cells": [
    {
      "cell_type": "code",
      "metadata": {
        "id": "4M_9J0ppVZJd",
        "colab_type": "code",
        "colab": {
          "base_uri": "https://localhost:8080/",
          "height": 121
        },
        "outputId": "51ab006e-1230-4fd1-893c-e4756ffbe005"
      },
      "source": [
        "from google.colab import drive\n",
        "drive.mount('/content/drive')"
      ],
      "execution_count": 1,
      "outputs": [
        {
          "output_type": "stream",
          "text": [
            "Go to this URL in a browser: https://accounts.google.com/o/oauth2/auth?client_id=947318989803-6bn6qk8qdgf4n4g3pfee6491hc0brc4i.apps.googleusercontent.com&redirect_uri=urn%3aietf%3awg%3aoauth%3a2.0%3aoob&response_type=code&scope=email%20https%3a%2f%2fwww.googleapis.com%2fauth%2fdocs.test%20https%3a%2f%2fwww.googleapis.com%2fauth%2fdrive%20https%3a%2f%2fwww.googleapis.com%2fauth%2fdrive.photos.readonly%20https%3a%2f%2fwww.googleapis.com%2fauth%2fpeopleapi.readonly\n",
            "\n",
            "Enter your authorization code:\n",
            "··········\n",
            "Mounted at /content/drive\n"
          ],
          "name": "stdout"
        }
      ]
    },
    {
      "cell_type": "code",
      "metadata": {
        "id": "2p6hF_43VZIH",
        "colab_type": "code",
        "colab": {
          "base_uri": "https://localhost:8080/",
          "height": 134
        },
        "outputId": "997a98d4-cde8-43a7-fad1-3057cfa0808b"
      },
      "source": [
        "import os\n",
        "os.chdir('/content/drive/My Drive/project_captcha/dataset/captcha_labelled/captcha')\n",
        "!ls"
      ],
      "execution_count": 2,
      "outputs": [
        {
          "output_type": "stream",
          "text": [
            "2020-05-05  2020-05-19\t2020-05-26  2020-06-03\t2020-06-10  2020-06-17\n",
            "2020-05-06  2020-05-20\t2020-05-27  2020-06-04\t2020-06-11  2020-06-18\n",
            "2020-05-14  2020-05-21\t2020-05-28  2020-06-05\t2020-06-12  2020-06-19\n",
            "2020-05-15  2020-05-22\t2020-05-29  2020-06-06\t2020-06-13  2020-06-20\n",
            "2020-05-16  2020-05-23\t2020-05-30  2020-06-07\t2020-06-14  2020-06-21\n",
            "2020-05-17  2020-05-24\t2020-06-01  2020-06-08\t2020-06-15  2020-06-22\n",
            "2020-05-18  2020-05-25\t2020-06-02  2020-06-09\t2020-06-16  2020-06-23\n"
          ],
          "name": "stdout"
        }
      ]
    },
    {
      "cell_type": "code",
      "metadata": {
        "id": "lBvjECEJV5LF",
        "colab_type": "code",
        "colab": {}
      },
      "source": [
        "!pip install easyocr"
      ],
      "execution_count": null,
      "outputs": []
    },
    {
      "cell_type": "code",
      "metadata": {
        "id": "KufpLV0wWHAc",
        "colab_type": "code",
        "colab": {}
      },
      "source": [
        "import easyocr\n",
        "import cv2\n",
        "import numpy as np\n",
        "import matplotlib.pyplot as plt\n",
        "\n",
        "%matplotlib inline"
      ],
      "execution_count": 4,
      "outputs": []
    },
    {
      "cell_type": "code",
      "metadata": {
        "id": "4KrUR-nAWM4a",
        "colab_type": "code",
        "colab": {
          "base_uri": "https://localhost:8080/",
          "height": 50
        },
        "outputId": "5a41a931-b13e-41c1-ac82-216992f3a76a"
      },
      "source": [
        "reader = easyocr.Reader(['en']) # need to run only once to load model into memory"
      ],
      "execution_count": 5,
      "outputs": [
        {
          "output_type": "stream",
          "text": [
            "Downloading detection model, please wait. This may take several minutes depending upon your network connection.\n",
            "Downloading recognition model, please wait. This may take several minutes depending upon your network connection.\n"
          ],
          "name": "stderr"
        }
      ]
    },
    {
      "cell_type": "code",
      "metadata": {
        "id": "PwtAm3iEXrS5",
        "colab_type": "code",
        "colab": {}
      },
      "source": [
        "result = reader.readtext('2020-05-14/captcha_2020-05-14-05:39:23_HUJ9G')\n",
        "print(result)"
      ],
      "execution_count": null,
      "outputs": []
    },
    {
      "cell_type": "markdown",
      "metadata": {
        "id": "L88cDBwiskcG",
        "colab_type": "text"
      },
      "source": [
        "### easyocr on processed images"
      ]
    },
    {
      "cell_type": "code",
      "metadata": {
        "id": "n1-4jliMs4CS",
        "colab_type": "code",
        "colab": {}
      },
      "source": [
        "os.chdir('/content/drive/My Drive/project_captcha/dataset/processed')"
      ],
      "execution_count": 6,
      "outputs": []
    },
    {
      "cell_type": "code",
      "metadata": {
        "id": "UkJaSSrWtClw",
        "colab_type": "code",
        "colab": {}
      },
      "source": [
        "im = cv2.imread('136_46U3K.jpg',-1)"
      ],
      "execution_count": 27,
      "outputs": []
    },
    {
      "cell_type": "code",
      "metadata": {
        "id": "UlDCzjqwstbt",
        "colab_type": "code",
        "colab": {
          "base_uri": "https://localhost:8080/",
          "height": 34
        },
        "outputId": "741972e7-53e8-42dd-8914-09e32d32e91b"
      },
      "source": [
        "result = reader.readtext(im, detail=0)\n",
        "print(result)"
      ],
      "execution_count": 28,
      "outputs": [
        {
          "output_type": "stream",
          "text": [
            "['q 6 l3 k']\n"
          ],
          "name": "stdout"
        }
      ]
    },
    {
      "cell_type": "code",
      "metadata": {
        "id": "zWXpN2uwtO7y",
        "colab_type": "code",
        "colab": {}
      },
      "source": [
        ""
      ],
      "execution_count": null,
      "outputs": []
    }
  ]
}