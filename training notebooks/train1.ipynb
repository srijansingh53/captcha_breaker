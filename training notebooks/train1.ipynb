{
  "nbformat": 4,
  "nbformat_minor": 0,
  "metadata": {
    "colab": {
      "name": "train1.ipynb",
      "provenance": [],
      "collapsed_sections": []
    },
    "kernelspec": {
      "name": "python3",
      "display_name": "Python 3"
    },
    "accelerator": "GPU"
  },
  "cells": [
    {
      "cell_type": "code",
      "metadata": {
        "id": "4M_9J0ppVZJd",
        "colab_type": "code",
        "colab": {}
      },
      "source": [
        "from google.colab import drive\n",
        "drive.mount('/content/drive')"
      ],
      "execution_count": null,
      "outputs": []
    },
    {
      "cell_type": "code",
      "metadata": {
        "id": "2p6hF_43VZIH",
        "colab_type": "code",
        "colab": {
          "base_uri": "https://localhost:8080/",
          "height": 34
        },
        "outputId": "08345c76-56ee-4dfe-a2ba-e95aa61027e6"
      },
      "source": [
        "import os\n",
        "os.chdir('/content/drive/My Drive/project_captcha/dataset/')\n",
        "!ls"
      ],
      "execution_count": 2,
      "outputs": [
        {
          "output_type": "stream",
          "text": [
            "captcha_labelled  combined  deskewed  label.csv  letters  processed\n"
          ],
          "name": "stdout"
        }
      ]
    },
    {
      "cell_type": "code",
      "metadata": {
        "id": "KufpLV0wWHAc",
        "colab_type": "code",
        "colab": {
          "base_uri": "https://localhost:8080/",
          "height": 70
        },
        "outputId": "58caa776-3107-4d81-a8f1-c9d7ebaea949"
      },
      "source": [
        "import cv2\n",
        "import numpy as np\n",
        "import pandas as pd\n",
        "\n",
        "import torch\n",
        "import torch.nn as nn\n",
        "import torch.nn.functional as F\n",
        "import torch.optim as optim\n",
        "from torchvision import transforms, datasets, models\n",
        "from torch.autograd import Variable\n",
        "from torch.utils.data import DataLoader, Dataset, sampler, random_split, SubsetRandomSampler, WeightedRandomSampler\n",
        "\n",
        "import matplotlib.pyplot as plt\n",
        "import seaborn as sns\n",
        "%matplotlib inline"
      ],
      "execution_count": 3,
      "outputs": [
        {
          "output_type": "stream",
          "text": [
            "/usr/local/lib/python3.6/dist-packages/statsmodels/tools/_testing.py:19: FutureWarning: pandas.util.testing is deprecated. Use the functions in the public API at pandas.testing instead.\n",
            "  import pandas.util.testing as tm\n"
          ],
          "name": "stderr"
        }
      ]
    },
    {
      "cell_type": "code",
      "metadata": {
        "id": "scx2q6VPAHTK",
        "colab_type": "code",
        "colab": {
          "base_uri": "https://localhost:8080/",
          "height": 34
        },
        "outputId": "b70829b9-a676-4833-bfeb-b66263785c6e"
      },
      "source": [
        "np.random.seed(0)\n",
        "torch.manual_seed(0)"
      ],
      "execution_count": 4,
      "outputs": [
        {
          "output_type": "execute_result",
          "data": {
            "text/plain": [
              "<torch._C.Generator at 0x7f0bff295198>"
            ]
          },
          "metadata": {
            "tags": []
          },
          "execution_count": 4
        }
      ]
    },
    {
      "cell_type": "code",
      "metadata": {
        "id": "zWXpN2uwtO7y",
        "colab_type": "code",
        "colab": {}
      },
      "source": [
        "''' Declaring important parameters '''\n",
        "\n",
        "data_dir = 'letters'\n",
        "nThreads = 4\n",
        "batch_size = 32"
      ],
      "execution_count": 5,
      "outputs": []
    },
    {
      "cell_type": "markdown",
      "metadata": {
        "id": "XXMRV4g7urDa",
        "colab_type": "text"
      },
      "source": [
        "## Loading/Splitting Dataset"
      ]
    },
    {
      "cell_type": "code",
      "metadata": {
        "id": "S0l5aDbuzBsK",
        "colab_type": "code",
        "colab": {
          "base_uri": "https://localhost:8080/",
          "height": 34
        },
        "outputId": "2fefd90a-b5f6-4a0e-abf0-ca47724cb59d"
      },
      "source": [
        "''' Loading dataset and splitting it into train and test set '''\n",
        "def load_split_train_test(datadir, valid_size = .2):\n",
        "\n",
        "    train_transforms = transforms.Compose([transforms.Resize(100),\n",
        "                                           transforms.ToTensor(),\n",
        "                                           ])\n",
        "    test_transforms = transforms.Compose([transforms.Resize(100),\n",
        "                                          transforms.ToTensor(),\n",
        "                                          ])\n",
        "    train_data = datasets.ImageFolder(datadir, transform=train_transforms)\n",
        "    test_data = datasets.ImageFolder(datadir, transform=test_transforms)\n",
        "    num_train = len(train_data)\n",
        "    indices = list(range(num_train))\n",
        "    split = int(np.floor(valid_size * num_train))\n",
        "    np.random.shuffle(indices)\n",
        "\n",
        "    train_idx, test_idx = indices[split:], indices[:split]\n",
        "    train_sampler = sampler.SubsetRandomSampler(train_idx)\n",
        "    test_sampler = sampler.SubsetRandomSampler(test_idx)\n",
        "    trainloader = DataLoader(train_data,\n",
        "                   sampler=train_sampler, batch_size=64)\n",
        "    testloader = DataLoader(test_data,\n",
        "                   sampler=test_sampler, batch_size=64)\n",
        "    return trainloader, testloader\n",
        "\n",
        "trainloader, testloader = load_split_train_test(data_dir, .2)\n",
        "print(testloader.dataset.classes)"
      ],
      "execution_count": 6,
      "outputs": [
        {
          "output_type": "stream",
          "text": [
            "['2', '3', '4', '5', '6', '7', '8', '9', 'A', 'C', 'D', 'E', 'F', 'G', 'H', 'J', 'K', 'M', 'N', 'P', 'Q', 'R', 'S', 'T', 'U', 'V', 'W', 'X', 'Y', 'Z']\n"
          ],
          "name": "stdout"
        }
      ]
    },
    {
      "cell_type": "markdown",
      "metadata": {
        "id": "c_Rm0Oww6RBP",
        "colab_type": "text"
      },
      "source": [
        "Another method of splitting"
      ]
    },
    {
      "cell_type": "code",
      "metadata": {
        "id": "8tomD9CI6Qm_",
        "colab_type": "code",
        "colab": {}
      },
      "source": [
        "image_transforms = {\n",
        "    \"train\": transforms.Compose([\n",
        "        transforms.Grayscale(),\n",
        "        transforms.Resize((100, 100)),\n",
        "        transforms.ToTensor()\n",
        "    ])\n",
        "}"
      ],
      "execution_count": 6,
      "outputs": []
    },
    {
      "cell_type": "code",
      "metadata": {
        "id": "a9c_lVCNzTX4",
        "colab_type": "code",
        "colab": {}
      },
      "source": [
        "letters_dataset = datasets.ImageFolder(\n",
        "                              root = data_dir,\n",
        "                              transform = image_transforms[\"train\"]\n",
        "                       )"
      ],
      "execution_count": 7,
      "outputs": []
    },
    {
      "cell_type": "code",
      "metadata": {
        "id": "E8l0AAol61TD",
        "colab_type": "code",
        "colab": {
          "base_uri": "https://localhost:8080/",
          "height": 168
        },
        "outputId": "1491a983-c093-4e6a-ff42-af0253bbd7d8"
      },
      "source": [
        "letters_dataset"
      ],
      "execution_count": 8,
      "outputs": [
        {
          "output_type": "execute_result",
          "data": {
            "text/plain": [
              "Dataset ImageFolder\n",
              "    Number of datapoints: 10355\n",
              "    Root location: letters\n",
              "    StandardTransform\n",
              "Transform: Compose(\n",
              "               Grayscale(num_output_channels=1)\n",
              "               Resize(size=(100, 100), interpolation=PIL.Image.BILINEAR)\n",
              "               ToTensor()\n",
              "           )"
            ]
          },
          "metadata": {
            "tags": []
          },
          "execution_count": 8
        }
      ]
    },
    {
      "cell_type": "code",
      "metadata": {
        "id": "T6enm_CB66ZY",
        "colab_type": "code",
        "colab": {
          "base_uri": "https://localhost:8080/",
          "height": 70
        },
        "outputId": "14f383e9-23c3-4936-c875-bfd3034dc8d3"
      },
      "source": [
        "print(letters_dataset.classes)\n",
        "print(letters_dataset.class_to_idx)"
      ],
      "execution_count": 9,
      "outputs": [
        {
          "output_type": "stream",
          "text": [
            "['2', '3', '4', '5', '6', '7', '8', '9', 'A', 'C', 'D', 'E', 'F', 'G', 'H', 'J', 'K', 'M', 'N', 'P', 'Q', 'R', 'S', 'T', 'U', 'V', 'W', 'X', 'Y', 'Z']\n",
            "{'2': 0, '3': 1, '4': 2, '5': 3, '6': 4, '7': 5, '8': 6, '9': 7, 'A': 8, 'C': 9, 'D': 10, 'E': 11, 'F': 12, 'G': 13, 'H': 14, 'J': 15, 'K': 16, 'M': 17, 'N': 18, 'P': 19, 'Q': 20, 'R': 21, 'S': 22, 'T': 23, 'U': 24, 'V': 25, 'W': 26, 'X': 27, 'Y': 28, 'Z': 29}\n"
          ],
          "name": "stdout"
        }
      ]
    },
    {
      "cell_type": "code",
      "metadata": {
        "id": "NVd4fRs_7fFw",
        "colab_type": "code",
        "colab": {
          "base_uri": "https://localhost:8080/",
          "height": 54
        },
        "outputId": "6f8d6b8e-9250-482a-9894-0f5356989b02"
      },
      "source": [
        "idx2class = {v: k for k, v in letters_dataset.class_to_idx.items()}\n",
        "print(idx2class)"
      ],
      "execution_count": 10,
      "outputs": [
        {
          "output_type": "stream",
          "text": [
            "{0: '2', 1: '3', 2: '4', 3: '5', 4: '6', 5: '7', 6: '8', 7: '9', 8: 'A', 9: 'C', 10: 'D', 11: 'E', 12: 'F', 13: 'G', 14: 'H', 15: 'J', 16: 'K', 17: 'M', 18: 'N', 19: 'P', 20: 'Q', 21: 'R', 22: 'S', 23: 'T', 24: 'U', 25: 'V', 26: 'W', 27: 'X', 28: 'Y', 29: 'Z'}\n"
          ],
          "name": "stdout"
        }
      ]
    },
    {
      "cell_type": "code",
      "metadata": {
        "id": "8Bny9U_C7BYY",
        "colab_type": "code",
        "colab": {}
      },
      "source": [
        "def get_class_distribution(dataset_obj):\n",
        "    count_dict = {k:0 for k,v in dataset_obj.class_to_idx.items()}\n",
        "    \n",
        "    for element in dataset_obj:\n",
        "        y_lbl = element[1]\n",
        "        y_lbl = idx2class[y_lbl]\n",
        "        count_dict[y_lbl] += 1\n",
        "            \n",
        "    return count_dict\n",
        "# print(\"Distribution of classes: \\n\", get_class_distribution(letters_dataset))\n"
      ],
      "execution_count": 12,
      "outputs": []
    },
    {
      "cell_type": "code",
      "metadata": {
        "id": "Pl9bHtd77diW",
        "colab_type": "code",
        "colab": {}
      },
      "source": [
        "plt.figure(figsize=(15,8))\n",
        "sns.barplot(data = pd.DataFrame.from_dict([get_class_distribution(letters_dataset)]).melt(),\n",
        "            x = \"variable\", y=\"value\", hue=\"variable\").set_title('Letters Class Distribution')"
      ],
      "execution_count": null,
      "outputs": []
    },
    {
      "cell_type": "markdown",
      "metadata": {
        "id": "5Ba5Oho2AR_G",
        "colab_type": "text"
      },
      "source": [
        "Random split"
      ]
    },
    {
      "cell_type": "code",
      "metadata": {
        "id": "fMD9ne3C8DOb",
        "colab_type": "code",
        "colab": {
          "base_uri": "https://localhost:8080/",
          "height": 50
        },
        "outputId": "83a99fc3-952a-4b9d-e964-f0b540644d28"
      },
      "source": [
        "train_dataset, val_dataset = random_split(letters_dataset, (8000, 2355))\n",
        "\n",
        "train_loader = DataLoader(dataset=train_dataset, shuffle=True, batch_size=32)\n",
        "val_loader = DataLoader(dataset=val_dataset, shuffle=False, batch_size=32)\n",
        "print(\"Length of the train_loader:\", len(train_loader))\n",
        "print(\"Length of the val_loader:\", len(val_loader))\n"
      ],
      "execution_count": 11,
      "outputs": [
        {
          "output_type": "stream",
          "text": [
            "Length of the train_loader: 250\n",
            "Length of the val_loader: 74\n"
          ],
          "name": "stdout"
        }
      ]
    },
    {
      "cell_type": "code",
      "metadata": {
        "id": "v2AEcx7AevSq",
        "colab_type": "code",
        "colab": {
          "base_uri": "https://localhost:8080/",
          "height": 352
        },
        "outputId": "871a94a7-250e-407b-eae9-fd0473e3c3eb"
      },
      "source": [
        "''' Vizualize Images from dataloader '''\n",
        "\n",
        "dataiter = iter(train_loader)\n",
        "images, labels = dataiter.next()\n",
        "print(type(images))\n",
        "print(images.shape)\n",
        "print(labels.shape)\n",
        "image = np.transpose(images[0].numpy(), (1, 2, 0))\n",
        "image = image.reshape(100,100)\n",
        "print(set(image.flatten()))\n",
        "plt.imshow(image, cmap='gray')"
      ],
      "execution_count": 13,
      "outputs": [
        {
          "output_type": "stream",
          "text": [
            "<class 'torch.Tensor'>\n",
            "torch.Size([32, 1, 100, 100])\n",
            "torch.Size([32])\n",
            "{0.0, 0.011764706, 0.99607843, 0.003921569, 1.0, 0.99215686, 0.007843138, 0.98039216, 0.9882353, 0.019607844, 0.015686275, 0.9843137, 0.9764706}\n"
          ],
          "name": "stdout"
        },
        {
          "output_type": "execute_result",
          "data": {
            "text/plain": [
              "<matplotlib.image.AxesImage at 0x7f0b9fa88b00>"
            ]
          },
          "metadata": {
            "tags": []
          },
          "execution_count": 13
        },
        {
          "output_type": "display_data",
          "data": {
            "image/png": "[encoded data removed]",
            "text/plain": [
              "<Figure size 432x288 with 1 Axes>"
            ]
          },
          "metadata": {
            "tags": [],
            "needs_background": "light"
          }
        }
      ]
    },
    {
      "cell_type": "markdown",
      "metadata": {
        "id": "RzCXEKHFmeko",
        "colab_type": "text"
      },
      "source": [
        "Model"
      ]
    },
    {
      "cell_type": "code",
      "metadata": {
        "id": "mGRHWvQaCv-n",
        "colab_type": "code",
        "colab": {
          "base_uri": "https://localhost:8080/",
          "height": 34
        },
        "outputId": "d41cccab-2c2a-4e7f-dabe-1c1c3d6f9d12"
      },
      "source": [
        "device = torch.device(\"cuda\" if torch.cuda.is_available() \n",
        "                                  else \"cpu\")\n",
        "print(device)"
      ],
      "execution_count": 14,
      "outputs": [
        {
          "output_type": "stream",
          "text": [
            "cuda\n"
          ],
          "name": "stdout"
        }
      ]
    },
    {
      "cell_type": "markdown",
      "metadata": {
        "id": "h7ekkEZKu049",
        "colab_type": "text"
      },
      "source": [
        "##Training"
      ]
    },
    {
      "cell_type": "code",
      "metadata": {
        "id": "K-6P7LsKp-sM",
        "colab_type": "code",
        "colab": {}
      },
      "source": [
        "class CustomNet(nn.Module):\n",
        "    def __init__(self):\n",
        "        super(CustomNet, self).__init__()\n",
        "        self.cnn_model = nn.Sequential(\n",
        "            nn.Conv2d(1, 6, kernel_size = 5),\n",
        "            nn.ReLU(),\n",
        "            nn.AvgPool2d(2, stride = 2),\n",
        "            nn.Conv2d(6, 16, kernel_size = 5),\n",
        "            nn.ReLU(),\n",
        "            nn.AvgPool2d(2, stride = 2))\n",
        "\n",
        "        self.fc_model = nn.Sequential(\n",
        "            nn.Linear(7744, 1024), # (N, 2400) -> (N, 512)\n",
        "            nn.ReLU(),\n",
        "            nn.Linear(1024, 30))  # (N, 512)  -> (N, 30)) #30 classes\n",
        "\n",
        "    def forward(self, x):\n",
        "        # print(x.shape)\n",
        "        x = self.cnn_model(x)\n",
        "        # print(x.shape)    \n",
        "        x = x.view(x.size(0), -1)\n",
        "        # print(x.shape)    \n",
        "        x = self.fc_model(x)\n",
        "        # print(x.shape)\n",
        "        return x"
      ],
      "execution_count": 21,
      "outputs": []
    },
    {
      "cell_type": "code",
      "metadata": {
        "id": "mMNVM7RvmkTz",
        "colab_type": "code",
        "colab": {}
      },
      "source": [
        "model = CustomNet().to(device)\n",
        "loss_fn = nn.CrossEntropyLoss()\n",
        "opt = optim.Adam(model.parameters(), lr=0.001)"
      ],
      "execution_count": 22,
      "outputs": []
    },
    {
      "cell_type": "code",
      "metadata": {
        "id": "i_uJVpYqxiuo",
        "colab_type": "code",
        "colab": {
          "base_uri": "https://localhost:8080/",
          "height": 50
        },
        "outputId": "3dc63c0e-81ed-4d85-a6ff-a0e5f6aa1b51"
      },
      "source": [
        "# Find total parameters and trainable parameters\n",
        "total_params = sum(p.numel() for p in model.parameters())\n",
        "print(f'{total_params:,} total parameters.')\n",
        "total_trainable_params = sum(p.numel() for p in model.parameters() if p.requires_grad)\n",
        "print(f'{total_trainable_params:,} training parameters.')"
      ],
      "execution_count": 23,
      "outputs": [
        {
          "output_type": "stream",
          "text": [
            "7,964,202 total parameters.\n",
            "7,964,202 training parameters.\n"
          ],
          "name": "stdout"
        }
      ]
    },
    {
      "cell_type": "code",
      "metadata": {
        "id": "m-9ffI7bsYLR",
        "colab_type": "code",
        "colab": {}
      },
      "source": [
        "def evaluation(dataloader):\n",
        "    total, correct = 0, 0\n",
        "    #keeping the network in evaluation mode \n",
        "    model.eval()\n",
        "    for data in dataloader:\n",
        "        inputs, labels = data\n",
        "        #moving the inputs and labels to gpu\n",
        "        inputs, labels = inputs.to(device), labels.to(device)\n",
        "        outputs = model(inputs)\n",
        "        _, pred = torch.max(outputs.data, 1)\n",
        "        total += labels.size(0)\n",
        "        correct += (pred == labels).sum().item()\n",
        "    return 100 * correct / total"
      ],
      "execution_count": 24,
      "outputs": []
    },
    {
      "cell_type": "code",
      "metadata": {
        "id": "54rJRyc7yM7m",
        "colab_type": "code",
        "colab": {
          "base_uri": "https://localhost:8080/",
          "height": 433
        },
        "outputId": "d45c9006-2d0d-460f-e27f-65df86404892"
      },
      "source": [
        "loss_arr = []\n",
        "loss_epoch_arr = []\n",
        "max_epochs = 10 #epoch count\n",
        "\n",
        "for epoch in range(max_epochs):\n",
        "\n",
        "    for i, data in enumerate(train_loader, 0):\n",
        "\n",
        "        inputs, labels = data\n",
        "        # print(labels)\n",
        "        inputs, labels = inputs.to(device), labels.to(device)\n",
        "        # print()\n",
        "        #forward pass\n",
        "        outputs = model(inputs)\n",
        "        # print('a')\n",
        "        loss = loss_fn(outputs, labels)\n",
        "        \n",
        "        #backward and optimize\n",
        "        opt.zero_grad()\n",
        "        loss.backward()\n",
        "        opt.step()\n",
        "        \n",
        "        loss_arr.append(loss.item())\n",
        "        \n",
        "    loss_epoch_arr.append(loss.item())\n",
        "        \n",
        "    print('Epoch: %d/%d, Test acc: %0.2f, Train acc: %0.2f' % (epoch, max_epochs, evaluation(val_loader), evaluation(train_loader)))\n",
        "    \n",
        "    \n",
        "plt.plot(loss_epoch_arr)\n",
        "plt.show()"
      ],
      "execution_count": 25,
      "outputs": [
        {
          "output_type": "stream",
          "text": [
            "Epoch: 0/10, Test acc: 93.55, Train acc: 95.31\n",
            "Epoch: 1/10, Test acc: 96.82, Train acc: 98.71\n",
            "Epoch: 2/10, Test acc: 97.28, Train acc: 99.45\n",
            "Epoch: 3/10, Test acc: 97.66, Train acc: 99.76\n",
            "Epoch: 4/10, Test acc: 97.11, Train acc: 99.71\n",
            "Epoch: 5/10, Test acc: 97.66, Train acc: 99.85\n",
            "Epoch: 6/10, Test acc: 97.54, Train acc: 99.76\n",
            "Epoch: 7/10, Test acc: 96.60, Train acc: 99.54\n",
            "Epoch: 8/10, Test acc: 97.15, Train acc: 99.61\n",
            "Epoch: 9/10, Test acc: 97.79, Train acc: 99.90\n"
          ],
          "name": "stdout"
        },
        {
          "output_type": "display_data",
          "data": {
            "image/png": "[encoded data removed]",
            "text/plain": [
              "<Figure size 432x288 with 1 Axes>"
            ]
          },
          "metadata": {
            "tags": [],
            "needs_background": "light"
          }
        }
      ]
    },
    {
      "cell_type": "code",
      "metadata": {
        "id": "inARjJ8JynVu",
        "colab_type": "code",
        "colab": {}
      },
      "source": [
        "model_path = '../models/pytorch/lenet.pth'\n",
        "torch.save(model.state_dict(), model_path)"
      ],
      "execution_count": 28,
      "outputs": []
    },
    {
      "cell_type": "code",
      "metadata": {
        "id": "CwGvvktXyWxN",
        "colab_type": "code",
        "colab": {}
      },
      "source": [
        "full_model_path = '../models/pytorch/lenet_full.pth'\n",
        "torch.save(model, full_model_path)"
      ],
      "execution_count": 40,
      "outputs": []
    },
    {
      "cell_type": "markdown",
      "metadata": {
        "id": "Gm0Cf9Lpumrh",
        "colab_type": "text"
      },
      "source": [
        "## Inference"
      ]
    },
    {
      "cell_type": "code",
      "metadata": {
        "id": "C4UDj8DAsn3T",
        "colab_type": "code",
        "colab": {
          "base_uri": "https://localhost:8080/",
          "height": 285
        },
        "outputId": "9e77d7f1-8cbc-44f8-d9c1-c505835c103e"
      },
      "source": [
        "from PIL import Image\n",
        "img = Image.open('letters/2/24.jpg')\n",
        "# img = cv2.imread('letters/2/24.jpg',-1)\n",
        "plt.imshow(img,cmap='gray')"
      ],
      "execution_count": 36,
      "outputs": [
        {
          "output_type": "execute_result",
          "data": {
            "text/plain": [
              "<matplotlib.image.AxesImage at 0x7f0b94911860>"
            ]
          },
          "metadata": {
            "tags": []
          },
          "execution_count": 36
        },
        {
          "output_type": "display_data",
          "data": {
            "image/png": "[encoded data removed]",
            "text/plain": [
              "<Figure size 432x288 with 1 Axes>"
            ]
          },
          "metadata": {
            "tags": [],
            "needs_background": "light"
          }
        }
      ]
    },
    {
      "cell_type": "code",
      "metadata": {
        "id": "0QOEfgrawktk",
        "colab_type": "code",
        "colab": {}
      },
      "source": [
        "img_t = image_transforms[\"train\"](img)\n",
        "batch_t = torch.unsqueeze(img_t, 0)\n"
      ],
      "execution_count": 39,
      "outputs": []
    },
    {
      "cell_type": "code",
      "metadata": {
        "id": "Wt9W7PxowwOT",
        "colab_type": "code",
        "colab": {
          "base_uri": "https://localhost:8080/",
          "height": 269
        },
        "outputId": "85daa78f-0f97-4dcc-87e5-af8468df3910"
      },
      "source": [
        "model = torch.load(full_model_path)\n",
        "model.eval()"
      ],
      "execution_count": 41,
      "outputs": [
        {
          "output_type": "execute_result",
          "data": {
            "text/plain": [
              "CustomNet(\n",
              "  (cnn_model): Sequential(\n",
              "    (0): Conv2d(1, 6, kernel_size=(5, 5), stride=(1, 1))\n",
              "    (1): ReLU()\n",
              "    (2): AvgPool2d(kernel_size=2, stride=2, padding=0)\n",
              "    (3): Conv2d(6, 16, kernel_size=(5, 5), stride=(1, 1))\n",
              "    (4): ReLU()\n",
              "    (5): AvgPool2d(kernel_size=2, stride=2, padding=0)\n",
              "  )\n",
              "  (fc_model): Sequential(\n",
              "    (0): Linear(in_features=7744, out_features=1024, bias=True)\n",
              "    (1): ReLU()\n",
              "    (2): Linear(in_features=1024, out_features=30, bias=True)\n",
              "  )\n",
              ")"
            ]
          },
          "metadata": {
            "tags": []
          },
          "execution_count": 41
        }
      ]
    },
    {
      "cell_type": "code",
      "metadata": {
        "id": "gsLD9IDLy3s7",
        "colab_type": "code",
        "colab": {
          "base_uri": "https://localhost:8080/",
          "height": 34
        },
        "outputId": "ea81d241-7331-4215-8b48-375fc1d48de0"
      },
      "source": [
        "out = model(batch_t.to(device))\n",
        "print(out.shape)"
      ],
      "execution_count": 44,
      "outputs": [
        {
          "output_type": "stream",
          "text": [
            "torch.Size([1, 30])\n"
          ],
          "name": "stdout"
        }
      ]
    },
    {
      "cell_type": "code",
      "metadata": {
        "id": "0X38Uve8zP8j",
        "colab_type": "code",
        "colab": {
          "base_uri": "https://localhost:8080/",
          "height": 34
        },
        "outputId": "190a2335-c844-4e16-f0e7-cd70acab3e0f"
      },
      "source": [
        "prediction = int(torch.max(out.cpu().data, 1)[1].numpy())\n",
        "print(prediction)"
      ],
      "execution_count": 48,
      "outputs": [
        {
          "output_type": "stream",
          "text": [
            "<class 'int'>\n"
          ],
          "name": "stdout"
        }
      ]
    },
    {
      "cell_type": "code",
      "metadata": {
        "id": "GlZg9S3wzkWn",
        "colab_type": "code",
        "colab": {
          "base_uri": "https://localhost:8080/",
          "height": 34
        },
        "outputId": "7379ef62-f2b1-4581-d030-96996c1a85f4"
      },
      "source": [
        "letter = idx2class[prediction]\n",
        "print(letter)"
      ],
      "execution_count": 49,
      "outputs": [
        {
          "output_type": "stream",
          "text": [
            "2\n"
          ],
          "name": "stdout"
        }
      ]
    },
    {
      "cell_type": "code",
      "metadata": {
        "id": "0JX1zfTL0MZi",
        "colab_type": "code",
        "colab": {}
      },
      "source": [
        ""
      ],
      "execution_count": null,
      "outputs": []
    }
  ]
}